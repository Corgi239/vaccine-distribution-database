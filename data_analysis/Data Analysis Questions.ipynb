{
 "cells": [
  {
   "cell_type": "markdown",
   "id": "f34bdd3b",
   "metadata": {},
   "source": [
    "# Group Progject Part 3\n",
    "\n",
    "Ananov Georgy - 890980  \n",
    "Le Duong - 894834\n",
    "Nguyen Tam - 906968\n",
    "Pham Hieu - 895118\n",
    "\n",
    "## Library Imports"
   ]
  },
  {
   "cell_type": "code",
   "execution_count": 5,
   "id": "fe431120",
   "metadata": {},
   "outputs": [],
   "source": [
    "import psycopg2\n",
    "from psycopg2 import Error\n",
    "from sqlalchemy import create_engine, text\n",
    "import numpy as np\n",
    "import pandas as pd\n",
    "from pathlib import Path\n",
    "import matplotlib.pyplot as plt"
   ]
  },
  {
   "cell_type": "markdown",
   "id": "68fbfc24",
   "metadata": {},
   "source": [
    "## Database connection"
   ]
  },
  {
   "cell_type": "markdown",
   "id": "705e2c82",
   "metadata": {},
   "source": [
    "First things first, we need to connect to the *PostgreSQL* database we designed and implemented during the previous rounds. We can use methods from the `psycopg2` and `sqlalchemy` libraries to establish a connection and execute SQL queries."
   ]
  },
  {
   "cell_type": "code",
   "execution_count": 7,
   "id": "5ab4fc66",
   "metadata": {},
   "outputs": [
    {
     "name": "stdout",
     "output_type": "stream",
     "text": [
      "You are connected to -  ('PostgreSQL 12.11 (Ubuntu 12.11-0ubuntu0.20.04.1) on x86_64-pc-linux-gnu, compiled by gcc (Ubuntu 9.4.0-1ubuntu1~20.04.1) 9.4.0, 64-bit',) \n",
      "\n"
     ]
    }
   ],
   "source": [
    "# Credentials to connect to Postgres database\n",
    "database=\"grp21_vaccinedist\"   \n",
    "user='grp21'       \n",
    "password='B5!BpWYT' \n",
    "host='dbcourse2022.cs.aalto.fi'\n",
    "port= '5432'\n",
    "\n",
    "try:\n",
    "    connection = psycopg2.connect(\n",
    "                                    database=database,              \n",
    "                                    user=user,       \n",
    "                                    password=password,   \n",
    "                                    host=host,\n",
    "                                    port=port\n",
    "                                )\n",
    "    cursor = connection.cursor()\n",
    "    cursor.execute(\"SELECT version();\")\n",
    "    record = cursor.fetchone()\n",
    "    print(\"You are connected to - \", record, \"\\n\")\n",
    "    DIALECT = 'postgresql+psycopg2://'\n",
    "    db_uri = \"%s:%s@%s/%s\" % (user, password, host, database)\n",
    "    engine = create_engine(DIALECT + db_uri)\n",
    "    psql_conn  = engine.connect()\n",
    "\n",
    "except (Exception, Error) as error:\n",
    "    print(\"Error while connecting to PostgreSQL\", error)"
   ]
  },
  {
   "cell_type": "markdown",
   "id": "ff554e2d",
   "metadata": {},
   "source": [
    "With the connection established, we can proceed to conducting the analysis tasks."
   ]
  },
  {
   "cell_type": "markdown",
   "id": "f87807e7",
   "metadata": {},
   "source": [
    "## Data analysis"
   ]
  },
  {
   "cell_type": "markdown",
   "id": "d97f3a7b",
   "metadata": {},
   "source": [
    "### Question 1\n",
    "\n",
    "Let's start by pulling data about patients and symptoms from the database into a pandas dataframe using an SQL query."
   ]
  },
  {
   "cell_type": "code",
   "execution_count": 8,
   "id": "d2620533",
   "metadata": {},
   "outputs": [
    {
     "data": {
      "text/html": [
       "<div>\n",
       "<style scoped>\n",
       "    .dataframe tbody tr th:only-of-type {\n",
       "        vertical-align: middle;\n",
       "    }\n",
       "\n",
       "    .dataframe tbody tr th {\n",
       "        vertical-align: top;\n",
       "    }\n",
       "\n",
       "    .dataframe thead th {\n",
       "        text-align: right;\n",
       "    }\n",
       "</style>\n",
       "<table border=\"1\" class=\"dataframe\">\n",
       "  <thead>\n",
       "    <tr style=\"text-align: right;\">\n",
       "      <th></th>\n",
       "      <th>ssno</th>\n",
       "      <th>gender</th>\n",
       "      <th>birthday</th>\n",
       "      <th>symptom</th>\n",
       "      <th>date</th>\n",
       "    </tr>\n",
       "  </thead>\n",
       "  <tbody>\n",
       "    <tr>\n",
       "      <th>0</th>\n",
       "      <td>790503-394M</td>\n",
       "      <td>F</td>\n",
       "      <td>1979-05-03</td>\n",
       "      <td>anaphylaxia</td>\n",
       "      <td>2021-01-30</td>\n",
       "    </tr>\n",
       "    <tr>\n",
       "      <th>1</th>\n",
       "      <td>000127-4899</td>\n",
       "      <td>F</td>\n",
       "      <td>2000-01-27</td>\n",
       "      <td>blurring of vision</td>\n",
       "      <td>2021-02-01</td>\n",
       "    </tr>\n",
       "    <tr>\n",
       "      <th>2</th>\n",
       "      <td>090707-295R</td>\n",
       "      <td>F</td>\n",
       "      <td>2009-07-07</td>\n",
       "      <td>chest pain</td>\n",
       "      <td>2021-02-15</td>\n",
       "    </tr>\n",
       "    <tr>\n",
       "      <th>3</th>\n",
       "      <td>810616-9029</td>\n",
       "      <td>M</td>\n",
       "      <td>1981-06-16</td>\n",
       "      <td>chest pain</td>\n",
       "      <td>2021-04-30</td>\n",
       "    </tr>\n",
       "    <tr>\n",
       "      <th>4</th>\n",
       "      <td>701127-5340</td>\n",
       "      <td>F</td>\n",
       "      <td>1970-11-27</td>\n",
       "      <td>chills</td>\n",
       "      <td>2021-04-10</td>\n",
       "    </tr>\n",
       "  </tbody>\n",
       "</table>\n",
       "</div>"
      ],
      "text/plain": [
       "          ssno gender    birthday             symptom        date\n",
       "0  790503-394M      F  1979-05-03         anaphylaxia  2021-01-30\n",
       "1  000127-4899      F  2000-01-27  blurring of vision  2021-02-01\n",
       "2  090707-295R      F  2009-07-07          chest pain  2021-02-15\n",
       "3  810616-9029      M  1981-06-16          chest pain  2021-04-30\n",
       "4  701127-5340      F  1970-11-27              chills  2021-04-10"
      ]
     },
     "execution_count": 8,
     "metadata": {},
     "output_type": "execute_result"
    }
   ],
   "source": [
    "query = '''\n",
    "    SELECT ssno, gender, birthday, symptom, date\n",
    "    FROM patient, diagnosed\n",
    "    WHERE patient = ssno\n",
    "'''\n",
    "df = pd.read_sql(query, psql_conn)\n",
    "df.head()\n"
   ]
  },
  {
   "cell_type": "markdown",
   "id": "43d16ab9",
   "metadata": {},
   "source": [
    "Now we can create a table using the dataframe we obtained."
   ]
  },
  {
   "cell_type": "code",
   "execution_count": 9,
   "id": "071e4e10",
   "metadata": {},
   "outputs": [
    {
     "ename": "TypeError",
     "evalue": "NDFrame.to_sql() missing 1 required positional argument: 'con'",
     "output_type": "error",
     "traceback": [
      "\u001b[0;31m---------------------------------------------------------------------------\u001b[0m",
      "\u001b[0;31mTypeError\u001b[0m                                 Traceback (most recent call last)",
      "\u001b[1;32m/Users/Yura/Documents/Uni Academic/Databases/Course Project/cs-a-1153-2022-project-vaccine-distribution-group-21/data_analysis/Data Analysis Questions.ipynb Cell 11'\u001b[0m in \u001b[0;36m<cell line: 1>\u001b[0;34m()\u001b[0m\n\u001b[0;32m----> <a href='vscode-notebook-cell:/Users/Yura/Documents/Uni%20Academic/Databases/Course%20Project/cs-a-1153-2022-project-vaccine-distribution-group-21/data_analysis/Data%20Analysis%20Questions.ipynb#ch0000028?line=0'>1</a>\u001b[0m df\u001b[39m.\u001b[39;49mto_sql(\u001b[39m\"\u001b[39;49m\u001b[39mpatientsymptoms\u001b[39;49m\u001b[39m\"\u001b[39;49m, index \u001b[39m=\u001b[39;49m \u001b[39mTrue\u001b[39;49;00m, if_exists \u001b[39m=\u001b[39;49m \u001b[39m\"\u001b[39;49m\u001b[39mreplace\u001b[39;49m\u001b[39m\"\u001b[39;49m)\n",
      "\u001b[0;31mTypeError\u001b[0m: NDFrame.to_sql() missing 1 required positional argument: 'con'"
     ]
    }
   ],
   "source": [
    "df.to_sql(\"patientsymptoms\", psql_conn, index = True, if_exists = \"replace\")\n"
   ]
  },
  {
   "cell_type": "markdown",
   "id": "3e7b17b8",
   "metadata": {},
   "source": [
    "### Question 2"
   ]
  },
  {
   "cell_type": "code",
   "execution_count": null,
   "id": "27a6d0c2",
   "metadata": {},
   "outputs": [],
   "source": []
  },
  {
   "cell_type": "markdown",
   "id": "9f7d1d2f",
   "metadata": {},
   "source": [
    "### Question 3"
   ]
  },
  {
   "cell_type": "code",
   "execution_count": null,
   "id": "9cb54654",
   "metadata": {},
   "outputs": [],
   "source": []
  },
  {
   "cell_type": "markdown",
   "id": "59ff4db1",
   "metadata": {},
   "source": [
    "### Question 4"
   ]
  },
  {
   "cell_type": "code",
   "execution_count": null,
   "id": "d37a792d",
   "metadata": {},
   "outputs": [],
   "source": []
  },
  {
   "cell_type": "markdown",
   "id": "c5b0ae89",
   "metadata": {},
   "source": [
    "### Question 5"
   ]
  },
  {
   "cell_type": "code",
   "execution_count": null,
   "id": "acdb186f",
   "metadata": {},
   "outputs": [],
   "source": []
  },
  {
   "cell_type": "markdown",
   "id": "65536f71",
   "metadata": {},
   "source": [
    "### Question 6"
   ]
  },
  {
   "cell_type": "code",
   "execution_count": null,
   "id": "9b9a40a9",
   "metadata": {},
   "outputs": [],
   "source": []
  },
  {
   "cell_type": "markdown",
   "id": "f912e77a",
   "metadata": {},
   "source": [
    "### Question 7"
   ]
  },
  {
   "cell_type": "code",
   "execution_count": null,
   "id": "7e90c3fe",
   "metadata": {},
   "outputs": [],
   "source": []
  },
  {
   "cell_type": "markdown",
   "id": "157a34d0",
   "metadata": {},
   "source": [
    "### Question 8"
   ]
  },
  {
   "cell_type": "code",
   "execution_count": null,
   "id": "6109adc4",
   "metadata": {},
   "outputs": [],
   "source": []
  },
  {
   "cell_type": "markdown",
   "id": "b02f1114",
   "metadata": {},
   "source": [
    "### Question 9"
   ]
  },
  {
   "cell_type": "code",
   "execution_count": null,
   "id": "8918b756",
   "metadata": {},
   "outputs": [],
   "source": []
  },
  {
   "cell_type": "markdown",
   "id": "2d92b547",
   "metadata": {},
   "source": [
    "### Question 10"
   ]
  },
  {
   "cell_type": "code",
   "execution_count": null,
   "id": "5019aedd",
   "metadata": {},
   "outputs": [],
   "source": []
  }
 ],
 "metadata": {
  "interpreter": {
   "hash": "cb641868373737c8bc87df6acec58921e4382b73d0856bbdc1be96b41ac03031"
  },
  "kernelspec": {
   "display_name": "Python 3.10.2 ('venv': venv)",
   "language": "python",
   "name": "python3"
  },
  "language_info": {
   "codemirror_mode": {
    "name": "ipython",
    "version": 3
   },
   "file_extension": ".py",
   "mimetype": "text/x-python",
   "name": "python",
   "nbconvert_exporter": "python",
   "pygments_lexer": "ipython3",
   "version": "3.10.2"
  }
 },
 "nbformat": 4,
 "nbformat_minor": 5
}
