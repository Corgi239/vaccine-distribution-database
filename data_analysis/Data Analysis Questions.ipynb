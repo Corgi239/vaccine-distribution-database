{
 "cells": [
  {
   "cell_type": "markdown",
   "id": "f34bdd3b",
   "metadata": {},
   "source": [
    "# Group Progject Part 3\n",
    "\n",
    "Ananov Georgy - 890980   \n",
    "Le Duong - 894834  \n",
    "Nguyen Tam - 906968  \n",
    "Pham Hieu - 895118  \n",
    "\n",
    "## Library Imports"
   ]
  },
  {
   "cell_type": "code",
   "execution_count": 112,
   "id": "fe431120",
   "metadata": {},
   "outputs": [],
   "source": [
    "import psycopg2\n",
    "from psycopg2 import Error\n",
    "from sqlalchemy import create_engine, text\n",
    "import numpy as np\n",
    "import pandas as pd\n",
    "from pathlib import Path\n",
    "import matplotlib.pyplot as plt\n",
    "import matplotlib.dates as mdates\n",
    "from datetime import datetime"
   ]
  },
  {
   "cell_type": "markdown",
   "id": "68fbfc24",
   "metadata": {},
   "source": [
    "## Database connection"
   ]
  },
  {
   "cell_type": "markdown",
   "id": "705e2c82",
   "metadata": {},
   "source": [
    "First things first, we need to connect to the *PostgreSQL* database we designed and implemented during the previous rounds. We can use methods from the `psycopg2` and `sqlalchemy` libraries to establish a connection and execute SQL queries."
   ]
  },
  {
   "cell_type": "code",
   "execution_count": null,
   "id": "5ab4fc66",
   "metadata": {},
   "outputs": [],
   "source": [
    "# Credentials to connect to Postgres database\n",
    "database=\"grp21_vaccinedist\"   \n",
    "user='grp21'       \n",
    "password='B5!BpWYT' \n",
    "host='dbcourse2022.cs.aalto.fi'\n",
    "port= '5432'\n",
    "\n",
    "try:\n",
    "    connection = psycopg2.connect(\n",
    "                                    database=database,              \n",
    "                                    user=user,       \n",
    "                                    password=password,   \n",
    "                                    host=host,\n",
    "                                    port=port\n",
    "                                )\n",
    "    cursor = connection.cursor()\n",
    "    cursor.execute(\"SELECT version();\")\n",
    "    record = cursor.fetchone()\n",
    "    print(\"You are connected to - \", record, \"\\n\")\n",
    "    DIALECT = 'postgresql+psycopg2://'\n",
    "    db_uri = \"%s:%s@%s/%s\" % (user, password, host, database)\n",
    "    engine = create_engine(DIALECT + db_uri)\n",
    "    psql_conn  = engine.connect()\n",
    "\n",
    "except (Exception, Error) as error:\n",
    "    print(\"Error while connecting to PostgreSQL\", error)"
   ]
  },
  {
   "cell_type": "markdown",
   "id": "ff554e2d",
   "metadata": {},
   "source": [
    "With the connection established, we can proceed to conducting the analysis tasks."
   ]
  },
  {
   "cell_type": "markdown",
   "id": "f87807e7",
   "metadata": {},
   "source": [
    "## Data analysis"
   ]
  },
  {
   "cell_type": "markdown",
   "id": "d97f3a7b",
   "metadata": {},
   "source": [
    "### Question 1\n",
    "\n",
    "Let's start by pulling data about patients and symptoms from the database into a pandas dataframe using an SQL query."
   ]
  },
  {
   "cell_type": "code",
   "execution_count": null,
   "id": "d2620533",
   "metadata": {},
   "outputs": [],
   "source": [
    "query = '''\n",
    "    SELECT ssno, gender, birthday, symptom, date\n",
    "    FROM patient, diagnosed\n",
    "    WHERE patient = ssno\n",
    "'''\n",
    "df = pd.read_sql(query, psql_conn)\n",
    "df.head()"
   ]
  },
  {
   "cell_type": "markdown",
   "id": "43d16ab9",
   "metadata": {},
   "source": [
    "Now we can create a table using the dataframe we obtained."
   ]
  },
  {
   "cell_type": "code",
   "execution_count": null,
   "id": "071e4e10",
   "metadata": {},
   "outputs": [],
   "source": [
    "df.to_sql(\"patientsymptoms\", psql_conn, index = True, if_exists = \"replace\")"
   ]
  },
  {
   "cell_type": "markdown",
   "id": "976877d3",
   "metadata": {},
   "source": [
    "We can check that the table has been successfully inserted into the database."
   ]
  },
  {
   "cell_type": "code",
   "execution_count": 12,
   "id": "16caa3b2",
   "metadata": {},
   "outputs": [
    {
     "data": {
      "text/html": [
       "<div>\n",
       "<style scoped>\n",
       "    .dataframe tbody tr th:only-of-type {\n",
       "        vertical-align: middle;\n",
       "    }\n",
       "\n",
       "    .dataframe tbody tr th {\n",
       "        vertical-align: top;\n",
       "    }\n",
       "\n",
       "    .dataframe thead th {\n",
       "        text-align: right;\n",
       "    }\n",
       "</style>\n",
       "<table border=\"1\" class=\"dataframe\">\n",
       "  <thead>\n",
       "    <tr style=\"text-align: right;\">\n",
       "      <th></th>\n",
       "      <th>index</th>\n",
       "      <th>ssno</th>\n",
       "      <th>gender</th>\n",
       "      <th>birthday</th>\n",
       "      <th>symptom</th>\n",
       "      <th>date</th>\n",
       "    </tr>\n",
       "  </thead>\n",
       "  <tbody>\n",
       "    <tr>\n",
       "      <th>0</th>\n",
       "      <td>0</td>\n",
       "      <td>790503-394M</td>\n",
       "      <td>F</td>\n",
       "      <td>1979-05-03</td>\n",
       "      <td>anaphylaxia</td>\n",
       "      <td>2021-01-30</td>\n",
       "    </tr>\n",
       "    <tr>\n",
       "      <th>1</th>\n",
       "      <td>1</td>\n",
       "      <td>000127-4899</td>\n",
       "      <td>F</td>\n",
       "      <td>2000-01-27</td>\n",
       "      <td>blurring of vision</td>\n",
       "      <td>2021-02-01</td>\n",
       "    </tr>\n",
       "    <tr>\n",
       "      <th>2</th>\n",
       "      <td>2</td>\n",
       "      <td>090707-295R</td>\n",
       "      <td>F</td>\n",
       "      <td>2009-07-07</td>\n",
       "      <td>chest pain</td>\n",
       "      <td>2021-02-15</td>\n",
       "    </tr>\n",
       "    <tr>\n",
       "      <th>3</th>\n",
       "      <td>3</td>\n",
       "      <td>810616-9029</td>\n",
       "      <td>M</td>\n",
       "      <td>1981-06-16</td>\n",
       "      <td>chest pain</td>\n",
       "      <td>2021-04-30</td>\n",
       "    </tr>\n",
       "    <tr>\n",
       "      <th>4</th>\n",
       "      <td>4</td>\n",
       "      <td>701127-5340</td>\n",
       "      <td>F</td>\n",
       "      <td>1970-11-27</td>\n",
       "      <td>chills</td>\n",
       "      <td>2021-04-10</td>\n",
       "    </tr>\n",
       "  </tbody>\n",
       "</table>\n",
       "</div>"
      ],
      "text/plain": [
       "   index         ssno gender    birthday             symptom        date\n",
       "0      0  790503-394M      F  1979-05-03         anaphylaxia  2021-01-30\n",
       "1      1  000127-4899      F  2000-01-27  blurring of vision  2021-02-01\n",
       "2      2  090707-295R      F  2009-07-07          chest pain  2021-02-15\n",
       "3      3  810616-9029      M  1981-06-16          chest pain  2021-04-30\n",
       "4      4  701127-5340      F  1970-11-27              chills  2021-04-10"
      ]
     },
     "execution_count": 12,
     "metadata": {},
     "output_type": "execute_result"
    }
   ],
   "source": [
    "query = '''\n",
    "    SELECT *\n",
    "    FROM patientsymptoms\n",
    "'''\n",
    "df = pd.read_sql(query, psql_conn)\n",
    "df.head()"
   ]
  },
  {
   "cell_type": "markdown",
   "id": "3e7b17b8",
   "metadata": {},
   "source": [
    "### Question 2"
   ]
  },
  {
   "cell_type": "markdown",
   "id": "998bce1f",
   "metadata": {},
   "source": [
    "For this question we can start by creating a view that lists some information about every performed vaccination."
   ]
  },
  {
   "cell_type": "code",
   "execution_count": 29,
   "id": "27a6d0c2",
   "metadata": {},
   "outputs": [],
   "source": [
    "%%capture\n",
    "\n",
    "query = '''\n",
    "    CREATE OR REPLACE VIEW individualvaccination AS\n",
    "    SELECT attend.patient AS patientssno, attend.date, vaccinedata.name as vaccinetype\n",
    "    FROM   \n",
    "        attend \n",
    "        NATURAL JOIN \n",
    "        vaccinationevent \n",
    "        NATURAL JOIN \n",
    "        vaccinationbatch \n",
    "        NATURAL JOIN \n",
    "        vaccinedata\n",
    "    \n",
    "'''\n",
    "psql_conn.execute(query)"
   ]
  },
  {
   "cell_type": "markdown",
   "id": "2bd26655",
   "metadata": {},
   "source": [
    "We can now use the created view in constructing the desired dataframe."
   ]
  },
  {
   "cell_type": "code",
   "execution_count": 37,
   "id": "4af303b1",
   "metadata": {},
   "outputs": [
    {
     "data": {
      "text/html": [
       "<div>\n",
       "<style scoped>\n",
       "    .dataframe tbody tr th:only-of-type {\n",
       "        vertical-align: middle;\n",
       "    }\n",
       "\n",
       "    .dataframe tbody tr th {\n",
       "        vertical-align: top;\n",
       "    }\n",
       "\n",
       "    .dataframe thead th {\n",
       "        text-align: right;\n",
       "    }\n",
       "</style>\n",
       "<table border=\"1\" class=\"dataframe\">\n",
       "  <thead>\n",
       "    <tr style=\"text-align: right;\">\n",
       "      <th></th>\n",
       "      <th>patientssno</th>\n",
       "      <th>date1</th>\n",
       "      <th>asvaccinetype1</th>\n",
       "      <th>date2</th>\n",
       "      <th>asvaccinetype2</th>\n",
       "    </tr>\n",
       "  </thead>\n",
       "  <tbody>\n",
       "    <tr>\n",
       "      <th>0</th>\n",
       "      <td>841229-112N</td>\n",
       "      <td>2021-01-30</td>\n",
       "      <td>AstraZeneca</td>\n",
       "      <td>2021-02-14</td>\n",
       "      <td>Comirnaty</td>\n",
       "    </tr>\n",
       "    <tr>\n",
       "      <th>32</th>\n",
       "      <td>110929-252V</td>\n",
       "      <td>2021-01-30</td>\n",
       "      <td>Comirnaty</td>\n",
       "      <td>None</td>\n",
       "      <td>None</td>\n",
       "    </tr>\n",
       "    <tr>\n",
       "      <th>33</th>\n",
       "      <td>060729-292C</td>\n",
       "      <td>2021-01-30</td>\n",
       "      <td>Comirnaty</td>\n",
       "      <td>None</td>\n",
       "      <td>None</td>\n",
       "    </tr>\n",
       "    <tr>\n",
       "      <th>34</th>\n",
       "      <td>070101-326Q</td>\n",
       "      <td>2021-01-30</td>\n",
       "      <td>Comirnaty</td>\n",
       "      <td>None</td>\n",
       "      <td>None</td>\n",
       "    </tr>\n",
       "    <tr>\n",
       "      <th>35</th>\n",
       "      <td>880810-358W</td>\n",
       "      <td>2021-01-30</td>\n",
       "      <td>Comirnaty</td>\n",
       "      <td>2021-02-14</td>\n",
       "      <td>Comirnaty</td>\n",
       "    </tr>\n",
       "  </tbody>\n",
       "</table>\n",
       "</div>"
      ],
      "text/plain": [
       "    patientssno       date1 asvaccinetype1       date2 asvaccinetype2\n",
       "0   841229-112N  2021-01-30    AstraZeneca  2021-02-14      Comirnaty\n",
       "32  110929-252V  2021-01-30      Comirnaty        None           None\n",
       "33  060729-292C  2021-01-30      Comirnaty        None           None\n",
       "34  070101-326Q  2021-01-30      Comirnaty        None           None\n",
       "35  880810-358W  2021-01-30      Comirnaty  2021-02-14      Comirnaty"
      ]
     },
     "execution_count": 37,
     "metadata": {},
     "output_type": "execute_result"
    }
   ],
   "source": [
    "query = '''\n",
    "    SELECT ssno AS patientssno, IV1.date AS date1, IV1.vaccinetype ASvaccinetype1,\n",
    "        IV2.date AS date2, IV2.vaccinetype ASvaccinetype2\n",
    "    FROM \n",
    "        patient\n",
    "        LEFT JOIN individualvaccination AS IV1 ON ssno = IV1.patientssno\n",
    "        LEFT JOIN individualvaccination AS IV2 ON ssno = IV2.patientssno AND IV1.date <> IV2.date\n",
    "'''\n",
    "\n",
    "df = pd.read_sql(query, psql_conn)\n",
    "df.sort_values('date1').head()"
   ]
  },
  {
   "cell_type": "markdown",
   "id": "8dca372d",
   "metadata": {},
   "source": [
    "Here I assumed that a patient can only receive one vaccine in any given day. This assumption was also made during the database design process, so nothing new here. \n",
    "\n",
    "Now we can proceed to creating a table based on the newly constructed dataframe."
   ]
  },
  {
   "cell_type": "code",
   "execution_count": 34,
   "id": "9d7ab810",
   "metadata": {},
   "outputs": [
    {
     "data": {
      "text/html": [
       "<div>\n",
       "<style scoped>\n",
       "    .dataframe tbody tr th:only-of-type {\n",
       "        vertical-align: middle;\n",
       "    }\n",
       "\n",
       "    .dataframe tbody tr th {\n",
       "        vertical-align: top;\n",
       "    }\n",
       "\n",
       "    .dataframe thead th {\n",
       "        text-align: right;\n",
       "    }\n",
       "</style>\n",
       "<table border=\"1\" class=\"dataframe\">\n",
       "  <thead>\n",
       "    <tr style=\"text-align: right;\">\n",
       "      <th></th>\n",
       "      <th>index</th>\n",
       "      <th>patientssno</th>\n",
       "      <th>date1</th>\n",
       "      <th>asvaccinetype1</th>\n",
       "      <th>date2</th>\n",
       "      <th>asvaccinetype2</th>\n",
       "    </tr>\n",
       "  </thead>\n",
       "  <tbody>\n",
       "    <tr>\n",
       "      <th>0</th>\n",
       "      <td>0</td>\n",
       "      <td>841229-112N</td>\n",
       "      <td>2021-01-30</td>\n",
       "      <td>AstraZeneca</td>\n",
       "      <td>2021-02-14</td>\n",
       "      <td>Comirnaty</td>\n",
       "    </tr>\n",
       "    <tr>\n",
       "      <th>1</th>\n",
       "      <td>1</td>\n",
       "      <td>780214-1893</td>\n",
       "      <td>2021-01-30</td>\n",
       "      <td>AstraZeneca</td>\n",
       "      <td>None</td>\n",
       "      <td>None</td>\n",
       "    </tr>\n",
       "    <tr>\n",
       "      <th>2</th>\n",
       "      <td>2</td>\n",
       "      <td>731122-126T</td>\n",
       "      <td>2021-01-30</td>\n",
       "      <td>AstraZeneca</td>\n",
       "      <td>None</td>\n",
       "      <td>None</td>\n",
       "    </tr>\n",
       "    <tr>\n",
       "      <th>3</th>\n",
       "      <td>3</td>\n",
       "      <td>160930-586P</td>\n",
       "      <td>2021-01-30</td>\n",
       "      <td>AstraZeneca</td>\n",
       "      <td>2021-02-14</td>\n",
       "      <td>Comirnaty</td>\n",
       "    </tr>\n",
       "    <tr>\n",
       "      <th>4</th>\n",
       "      <td>4</td>\n",
       "      <td>930106-189U</td>\n",
       "      <td>2021-01-30</td>\n",
       "      <td>AstraZeneca</td>\n",
       "      <td>None</td>\n",
       "      <td>None</td>\n",
       "    </tr>\n",
       "  </tbody>\n",
       "</table>\n",
       "</div>"
      ],
      "text/plain": [
       "   index  patientssno       date1 asvaccinetype1       date2 asvaccinetype2\n",
       "0      0  841229-112N  2021-01-30    AstraZeneca  2021-02-14      Comirnaty\n",
       "1      1  780214-1893  2021-01-30    AstraZeneca        None           None\n",
       "2      2  731122-126T  2021-01-30    AstraZeneca        None           None\n",
       "3      3  160930-586P  2021-01-30    AstraZeneca  2021-02-14      Comirnaty\n",
       "4      4  930106-189U  2021-01-30    AstraZeneca        None           None"
      ]
     },
     "execution_count": 34,
     "metadata": {},
     "output_type": "execute_result"
    }
   ],
   "source": [
    "df.to_sql(\"patientvaccineinfo\", psql_conn, if_exists = \"append\")\n",
    "\n",
    "query = '''\n",
    "    SELECT *\n",
    "    FROM patientvaccineinfo\n",
    "'''\n",
    "pd.read_sql(query, psql_conn).head()"
   ]
  },
  {
   "cell_type": "markdown",
   "id": "9f7d1d2f",
   "metadata": {},
   "source": [
    "### Question 3"
   ]
  },
  {
   "cell_type": "code",
   "execution_count": null,
   "id": "9cb54654",
   "metadata": {},
   "outputs": [],
   "source": []
  },
  {
   "cell_type": "markdown",
   "id": "59ff4db1",
   "metadata": {},
   "source": [
    "### Question 4"
   ]
  },
  {
   "cell_type": "code",
   "execution_count": null,
   "id": "d37a792d",
   "metadata": {},
   "outputs": [],
   "source": []
  },
  {
   "cell_type": "markdown",
   "id": "c5b0ae89",
   "metadata": {},
   "source": [
    "### Question 5"
   ]
  },
  {
   "cell_type": "code",
   "execution_count": null,
   "id": "acdb186f",
   "metadata": {},
   "outputs": [],
   "source": []
  },
  {
   "cell_type": "markdown",
   "id": "65536f71",
   "metadata": {},
   "source": [
    "### Question 6"
   ]
  },
  {
   "cell_type": "code",
   "execution_count": null,
   "id": "9b9a40a9",
   "metadata": {},
   "outputs": [],
   "source": []
  },
  {
   "cell_type": "markdown",
   "id": "f912e77a",
   "metadata": {},
   "source": [
    "### Question 7"
   ]
  },
  {
   "cell_type": "code",
   "execution_count": null,
   "id": "7e90c3fe",
   "metadata": {},
   "outputs": [],
   "source": []
  },
  {
   "cell_type": "markdown",
   "id": "157a34d0",
   "metadata": {},
   "source": [
    "### Question 8"
   ]
  },
  {
   "cell_type": "code",
   "execution_count": null,
   "id": "6109adc4",
   "metadata": {},
   "outputs": [],
   "source": []
  },
  {
   "cell_type": "markdown",
   "id": "b02f1114",
   "metadata": {},
   "source": [
    "### Question 9"
   ]
  },
  {
   "cell_type": "markdown",
   "id": "7a3d9472",
   "metadata": {},
   "source": [
    "For this task we can rely on methods from the `pandas` and `matplotlib` libraries, as well as the view `individualvaccination` we created for question 2. \n",
    "\n",
    "First let's obtain the dates of first-dose vaccinations and calculate the number of vaccinated patiens by the end of each date. This would be possible to do entirely with SQL, but we chose to conduct part of the calculations in `pandas`. "
   ]
  },
  {
   "cell_type": "code",
   "execution_count": 106,
   "id": "8918b756",
   "metadata": {},
   "outputs": [
    {
     "data": {
      "text/html": [
       "<div>\n",
       "<style scoped>\n",
       "    .dataframe tbody tr th:only-of-type {\n",
       "        vertical-align: middle;\n",
       "    }\n",
       "\n",
       "    .dataframe tbody tr th {\n",
       "        vertical-align: top;\n",
       "    }\n",
       "\n",
       "    .dataframe thead th {\n",
       "        text-align: right;\n",
       "    }\n",
       "</style>\n",
       "<table border=\"1\" class=\"dataframe\">\n",
       "  <thead>\n",
       "    <tr style=\"text-align: right;\">\n",
       "      <th></th>\n",
       "      <th>date</th>\n",
       "      <th>count</th>\n",
       "    </tr>\n",
       "  </thead>\n",
       "  <tbody>\n",
       "    <tr>\n",
       "      <th>0</th>\n",
       "      <td>2021-01-01</td>\n",
       "      <td>0</td>\n",
       "    </tr>\n",
       "    <tr>\n",
       "      <th>0</th>\n",
       "      <td>2021-01-30</td>\n",
       "      <td>32</td>\n",
       "    </tr>\n",
       "    <tr>\n",
       "      <th>1</th>\n",
       "      <td>2021-02-14</td>\n",
       "      <td>39</td>\n",
       "    </tr>\n",
       "    <tr>\n",
       "      <th>2</th>\n",
       "      <td>2021-03-16</td>\n",
       "      <td>49</td>\n",
       "    </tr>\n",
       "    <tr>\n",
       "      <th>3</th>\n",
       "      <td>2021-05-10</td>\n",
       "      <td>78</td>\n",
       "    </tr>\n",
       "  </tbody>\n",
       "</table>\n",
       "</div>"
      ],
      "text/plain": [
       "         date  count\n",
       "0  2021-01-01      0\n",
       "0  2021-01-30     32\n",
       "1  2021-02-14     39\n",
       "2  2021-03-16     49\n",
       "3  2021-05-10     78"
      ]
     },
     "execution_count": 106,
     "metadata": {},
     "output_type": "execute_result"
    }
   ],
   "source": [
    "query = '''\n",
    "    SELECT MIN(date) AS date\n",
    "    FROM individualvaccination\n",
    "    GROUP BY patientssno\n",
    "    ORDER BY MIN(date)\n",
    "'''\n",
    "df_first_dose = pd.read_sql(query, psql_conn)\n",
    "df_first_dose[\"count\"] = 1\n",
    "df_first_dose[\"count\"] = df_first_dose[\"count\"].cumsum()\n",
    "vax_count = df_first_dose.groupby(\"date\", as_index = False).agg('max')\n",
    "first_row_df = pd.DataFrame({\"date\" : datetime.strptime(\"2021-01-01\", \"%Y-%m-%d\").date(), \"count\" : 0}, index = [0])\n",
    "vax_count = pd.concat([first_row_df, vax_count])\n",
    "vax_count.head()"
   ]
  },
  {
   "cell_type": "markdown",
   "id": "2ceb2345",
   "metadata": {},
   "source": [
    "We can use similar methods to obtain information about counts of patients with two doses."
   ]
  },
  {
   "cell_type": "code",
   "execution_count": 108,
   "id": "98a7a1af",
   "metadata": {},
   "outputs": [
    {
     "data": {
      "text/html": [
       "<div>\n",
       "<style scoped>\n",
       "    .dataframe tbody tr th:only-of-type {\n",
       "        vertical-align: middle;\n",
       "    }\n",
       "\n",
       "    .dataframe tbody tr th {\n",
       "        vertical-align: top;\n",
       "    }\n",
       "\n",
       "    .dataframe thead th {\n",
       "        text-align: right;\n",
       "    }\n",
       "</style>\n",
       "<table border=\"1\" class=\"dataframe\">\n",
       "  <thead>\n",
       "    <tr style=\"text-align: right;\">\n",
       "      <th></th>\n",
       "      <th>date</th>\n",
       "      <th>count</th>\n",
       "    </tr>\n",
       "  </thead>\n",
       "  <tbody>\n",
       "    <tr>\n",
       "      <th>0</th>\n",
       "      <td>2021-01-01</td>\n",
       "      <td>0</td>\n",
       "    </tr>\n",
       "    <tr>\n",
       "      <th>0</th>\n",
       "      <td>2021-02-14</td>\n",
       "      <td>32</td>\n",
       "    </tr>\n",
       "    <tr>\n",
       "      <th>1</th>\n",
       "      <td>2021-03-16</td>\n",
       "      <td>39</td>\n",
       "    </tr>\n",
       "    <tr>\n",
       "      <th>2</th>\n",
       "      <td>2021-05-10</td>\n",
       "      <td>49</td>\n",
       "    </tr>\n",
       "    <tr>\n",
       "      <th>3</th>\n",
       "      <td>2021-05-14</td>\n",
       "      <td>78</td>\n",
       "    </tr>\n",
       "  </tbody>\n",
       "</table>\n",
       "</div>"
      ],
      "text/plain": [
       "         date  count\n",
       "0  2021-01-01      0\n",
       "0  2021-02-14     32\n",
       "1  2021-03-16     39\n",
       "2  2021-05-10     49\n",
       "3  2021-05-14     78"
      ]
     },
     "execution_count": 108,
     "metadata": {},
     "output_type": "execute_result"
    }
   ],
   "source": [
    "query = '''\n",
    "    SELECT MIN(IV2.date) AS date\n",
    "    FROM individualvaccination AS IV1, individualvaccination AS IV2\n",
    "    WHERE IV1.date < IV2.date\n",
    "    GROUP BY IV1.patientssno\n",
    "    ORDER BY MIN(IV2.date)\n",
    "'''\n",
    "df_second_dose = pd.read_sql(query, psql_conn)\n",
    "df_second_dose[\"count\"] = 1\n",
    "df_second_dose[\"count\"] = df_second_dose[\"count\"].cumsum()\n",
    "fully_vax_count = df_second_dose.groupby(\"date\", as_index=False).agg('max')\n",
    "fully_vax_count = pd.concat([first_row_df, fully_vax_count])\n",
    "fully_vax_count.head()"
   ]
  },
  {
   "cell_type": "markdown",
   "id": "bb200311",
   "metadata": {},
   "source": [
    "Now we can proceed to compiling a plot."
   ]
  },
  {
   "cell_type": "code",
   "execution_count": 127,
   "id": "f55427ec",
   "metadata": {},
   "outputs": [
    {
     "data": {
      "image/png": "[encoded data removed]",
      "text/plain": [
       "<Figure size 504x360 with 1 Axes>"
      ]
     },
     "metadata": {
      "needs_background": "light"
     },
     "output_type": "display_data"
    }
   ],
   "source": [
    "fig, ax = plt.subplots(1, 1, figsize=(7, 5), constrained_layout=True)\n",
    "ax.plot(vax_count[\"date\"], vax_count[\"count\"],  '--o', label=\"Received first dose\")\n",
    "ax.plot(fully_vax_count[\"date\"], fully_vax_count[\"count\"],  '--o', label=\"Received two doses\")\n",
    "ax.xaxis.set_major_locator(mdates.MonthLocator())\n",
    "ax.xaxis.set_minor_locator(mdates.DayLocator(interval=5))\n",
    "ax.tick_params(axis = 'x', rotation = 45)\n",
    "ax.xaxis.set_major_formatter(mdates.DateFormatter('%Y-%b'))\n",
    "ax.grid(True)\n",
    "ax.legend()\n",
    "plt.show()\n"
   ]
  },
  {
   "cell_type": "markdown",
   "id": "a1e9c62f",
   "metadata": {},
   "source": [
    "Note: technically the dashed lines on this plot do not reflect the real intermediate datapoints. A more realistic plot would depict a stepped ladder function, since patients are not getting vaccinated outside of the vaccination event dates. However, since such a plot would be less visually informative and would not reflect the overall trend as well, we have elected to use the plot you can see above. "
   ]
  },
  {
   "cell_type": "markdown",
   "id": "2d92b547",
   "metadata": {},
   "source": [
    "### Question 10"
   ]
  },
  {
   "cell_type": "code",
   "execution_count": null,
   "id": "5019aedd",
   "metadata": {},
   "outputs": [],
   "source": []
  }
 ],
 "metadata": {
  "interpreter": {
   "hash": "cb641868373737c8bc87df6acec58921e4382b73d0856bbdc1be96b41ac03031"
  },
  "kernelspec": {
   "display_name": "Python 3.10.2 ('venv': venv)",
   "language": "python",
   "name": "python3"
  },
  "language_info": {
   "codemirror_mode": {
    "name": "ipython",
    "version": 3
   },
   "file_extension": ".py",
   "mimetype": "text/x-python",
   "name": "python",
   "nbconvert_exporter": "python",
   "pygments_lexer": "ipython3",
   "version": "3.10.2"
  }
 },
 "nbformat": 4,
 "nbformat_minor": 5
}
