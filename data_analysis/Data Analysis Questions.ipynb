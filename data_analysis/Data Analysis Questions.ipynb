{
 "cells": [
  {
   "cell_type": "code",
   "execution_count": 5,
   "id": "fe431120",
   "metadata": {},
   "outputs": [
    {
     "ename": "AttributeError",
     "evalue": "partially initialized module 'pandas' has no attribute 'core' (most likely due to a circular import)",
     "output_type": "error",
     "traceback": [
      "\u001b[0;31m---------------------------------------------------------------------------\u001b[0m",
      "\u001b[0;31mAttributeError\u001b[0m                            Traceback (most recent call last)",
      "\u001b[1;32m/Users/Yura/Documents/Uni Academic/Databases/Course Project/cs-a-1153-2022-project-vaccine-distribution-group-21/data_analysis/Data Analysis Questions.ipynb Cell 1'\u001b[0m in \u001b[0;36m<cell line: 5>\u001b[0;34m()\u001b[0m\n\u001b[1;32m      <a href='vscode-notebook-cell:/Users/Yura/Documents/Uni%20Academic/Databases/Course%20Project/cs-a-1153-2022-project-vaccine-distribution-group-21/data_analysis/Data%20Analysis%20Questions.ipynb#ch0000000?line=2'>3</a>\u001b[0m \u001b[39mfrom\u001b[39;00m \u001b[39msqlalchemy\u001b[39;00m \u001b[39mimport\u001b[39;00m create_engine, text\n\u001b[1;32m      <a href='vscode-notebook-cell:/Users/Yura/Documents/Uni%20Academic/Databases/Course%20Project/cs-a-1153-2022-project-vaccine-distribution-group-21/data_analysis/Data%20Analysis%20Questions.ipynb#ch0000000?line=3'>4</a>\u001b[0m \u001b[39mimport\u001b[39;00m \u001b[39mnumpy\u001b[39;00m \u001b[39mas\u001b[39;00m \u001b[39mnp\u001b[39;00m\n\u001b[0;32m----> <a href='vscode-notebook-cell:/Users/Yura/Documents/Uni%20Academic/Databases/Course%20Project/cs-a-1153-2022-project-vaccine-distribution-group-21/data_analysis/Data%20Analysis%20Questions.ipynb#ch0000000?line=4'>5</a>\u001b[0m \u001b[39mimport\u001b[39;00m \u001b[39mpandas\u001b[39;00m \u001b[39mas\u001b[39;00m \u001b[39mpd\u001b[39;00m\n\u001b[1;32m      <a href='vscode-notebook-cell:/Users/Yura/Documents/Uni%20Academic/Databases/Course%20Project/cs-a-1153-2022-project-vaccine-distribution-group-21/data_analysis/Data%20Analysis%20Questions.ipynb#ch0000000?line=5'>6</a>\u001b[0m \u001b[39mfrom\u001b[39;00m \u001b[39mpathlib\u001b[39;00m \u001b[39mimport\u001b[39;00m Path\n\u001b[1;32m      <a href='vscode-notebook-cell:/Users/Yura/Documents/Uni%20Academic/Databases/Course%20Project/cs-a-1153-2022-project-vaccine-distribution-group-21/data_analysis/Data%20Analysis%20Questions.ipynb#ch0000000?line=6'>7</a>\u001b[0m \u001b[39mimport\u001b[39;00m \u001b[39mmatplotlib\u001b[39;00m\u001b[39m.\u001b[39;00m\u001b[39mpyplot\u001b[39;00m \u001b[39mas\u001b[39;00m \u001b[39mplt\u001b[39;00m\n",
      "File \u001b[0;32m~/Documents/Uni Academic/Databases/Course Project/cs-a-1153-2022-project-vaccine-distribution-group-21/venv/lib/python3.10/site-packages/pandas/__init__.py:135\u001b[0m, in \u001b[0;36m<module>\u001b[0;34m\u001b[0m\n\u001b[1;32m    <a href='file:///Users/Yura/Documents/Uni%20Academic/Databases/Course%20Project/cs-a-1153-2022-project-vaccine-distribution-group-21/venv/lib/python3.10/site-packages/pandas/__init__.py?line=116'>117</a>\u001b[0m \u001b[39mfrom\u001b[39;00m \u001b[39mpandas\u001b[39;00m\u001b[39m.\u001b[39;00m\u001b[39mcore\u001b[39;00m\u001b[39m.\u001b[39;00m\u001b[39mcomputation\u001b[39;00m\u001b[39m.\u001b[39;00m\u001b[39mapi\u001b[39;00m \u001b[39mimport\u001b[39;00m \u001b[39meval\u001b[39m\n\u001b[1;32m    <a href='file:///Users/Yura/Documents/Uni%20Academic/Databases/Course%20Project/cs-a-1153-2022-project-vaccine-distribution-group-21/venv/lib/python3.10/site-packages/pandas/__init__.py?line=118'>119</a>\u001b[0m \u001b[39mfrom\u001b[39;00m \u001b[39mpandas\u001b[39;00m\u001b[39m.\u001b[39;00m\u001b[39mcore\u001b[39;00m\u001b[39m.\u001b[39;00m\u001b[39mreshape\u001b[39;00m\u001b[39m.\u001b[39;00m\u001b[39mapi\u001b[39;00m \u001b[39mimport\u001b[39;00m (\n\u001b[1;32m    <a href='file:///Users/Yura/Documents/Uni%20Academic/Databases/Course%20Project/cs-a-1153-2022-project-vaccine-distribution-group-21/venv/lib/python3.10/site-packages/pandas/__init__.py?line=119'>120</a>\u001b[0m     concat,\n\u001b[1;32m    <a href='file:///Users/Yura/Documents/Uni%20Academic/Databases/Course%20Project/cs-a-1153-2022-project-vaccine-distribution-group-21/venv/lib/python3.10/site-packages/pandas/__init__.py?line=120'>121</a>\u001b[0m     lreshape,\n\u001b[0;32m   (...)\u001b[0m\n\u001b[1;32m    <a href='file:///Users/Yura/Documents/Uni%20Academic/Databases/Course%20Project/cs-a-1153-2022-project-vaccine-distribution-group-21/venv/lib/python3.10/site-packages/pandas/__init__.py?line=131'>132</a>\u001b[0m     qcut,\n\u001b[1;32m    <a href='file:///Users/Yura/Documents/Uni%20Academic/Databases/Course%20Project/cs-a-1153-2022-project-vaccine-distribution-group-21/venv/lib/python3.10/site-packages/pandas/__init__.py?line=132'>133</a>\u001b[0m )\n\u001b[0;32m--> <a href='file:///Users/Yura/Documents/Uni%20Academic/Databases/Course%20Project/cs-a-1153-2022-project-vaccine-distribution-group-21/venv/lib/python3.10/site-packages/pandas/__init__.py?line=134'>135</a>\u001b[0m \u001b[39mfrom\u001b[39;00m \u001b[39mpandas\u001b[39;00m \u001b[39mimport\u001b[39;00m api, arrays, errors, io, plotting, testing, tseries\n\u001b[1;32m    <a href='file:///Users/Yura/Documents/Uni%20Academic/Databases/Course%20Project/cs-a-1153-2022-project-vaccine-distribution-group-21/venv/lib/python3.10/site-packages/pandas/__init__.py?line=135'>136</a>\u001b[0m \u001b[39mfrom\u001b[39;00m \u001b[39mpandas\u001b[39;00m\u001b[39m.\u001b[39;00m\u001b[39mutil\u001b[39;00m\u001b[39m.\u001b[39;00m\u001b[39m_print_versions\u001b[39;00m \u001b[39mimport\u001b[39;00m show_versions\n\u001b[1;32m    <a href='file:///Users/Yura/Documents/Uni%20Academic/Databases/Course%20Project/cs-a-1153-2022-project-vaccine-distribution-group-21/venv/lib/python3.10/site-packages/pandas/__init__.py?line=137'>138</a>\u001b[0m \u001b[39mfrom\u001b[39;00m \u001b[39mpandas\u001b[39;00m\u001b[39m.\u001b[39;00m\u001b[39mio\u001b[39;00m\u001b[39m.\u001b[39;00m\u001b[39mapi\u001b[39;00m \u001b[39mimport\u001b[39;00m (\n\u001b[1;32m    <a href='file:///Users/Yura/Documents/Uni%20Academic/Databases/Course%20Project/cs-a-1153-2022-project-vaccine-distribution-group-21/venv/lib/python3.10/site-packages/pandas/__init__.py?line=138'>139</a>\u001b[0m     \u001b[39m# excel\u001b[39;00m\n\u001b[1;32m    <a href='file:///Users/Yura/Documents/Uni%20Academic/Databases/Course%20Project/cs-a-1153-2022-project-vaccine-distribution-group-21/venv/lib/python3.10/site-packages/pandas/__init__.py?line=139'>140</a>\u001b[0m     ExcelFile,\n\u001b[0;32m   (...)\u001b[0m\n\u001b[1;32m    <a href='file:///Users/Yura/Documents/Uni%20Academic/Databases/Course%20Project/cs-a-1153-2022-project-vaccine-distribution-group-21/venv/lib/python3.10/site-packages/pandas/__init__.py?line=167'>168</a>\u001b[0m     read_spss,\n\u001b[1;32m    <a href='file:///Users/Yura/Documents/Uni%20Academic/Databases/Course%20Project/cs-a-1153-2022-project-vaccine-distribution-group-21/venv/lib/python3.10/site-packages/pandas/__init__.py?line=168'>169</a>\u001b[0m )\n",
      "File \u001b[0;32m~/Documents/Uni Academic/Databases/Course Project/cs-a-1153-2022-project-vaccine-distribution-group-21/venv/lib/python3.10/site-packages/pandas/testing.py:6\u001b[0m, in \u001b[0;36m<module>\u001b[0;34m\u001b[0m\n\u001b[1;32m      <a href='file:///Users/Yura/Documents/Uni%20Academic/Databases/Course%20Project/cs-a-1153-2022-project-vaccine-distribution-group-21/venv/lib/python3.10/site-packages/pandas/testing.py?line=0'>1</a>\u001b[0m \u001b[39m\"\"\"\u001b[39;00m\n\u001b[1;32m      <a href='file:///Users/Yura/Documents/Uni%20Academic/Databases/Course%20Project/cs-a-1153-2022-project-vaccine-distribution-group-21/venv/lib/python3.10/site-packages/pandas/testing.py?line=1'>2</a>\u001b[0m \u001b[39mPublic testing utility functions.\u001b[39;00m\n\u001b[1;32m      <a href='file:///Users/Yura/Documents/Uni%20Academic/Databases/Course%20Project/cs-a-1153-2022-project-vaccine-distribution-group-21/venv/lib/python3.10/site-packages/pandas/testing.py?line=2'>3</a>\u001b[0m \u001b[39m\"\"\"\u001b[39;00m\n\u001b[0;32m----> <a href='file:///Users/Yura/Documents/Uni%20Academic/Databases/Course%20Project/cs-a-1153-2022-project-vaccine-distribution-group-21/venv/lib/python3.10/site-packages/pandas/testing.py?line=5'>6</a>\u001b[0m \u001b[39mfrom\u001b[39;00m \u001b[39mpandas\u001b[39;00m\u001b[39m.\u001b[39;00m\u001b[39m_testing\u001b[39;00m \u001b[39mimport\u001b[39;00m (\n\u001b[1;32m      <a href='file:///Users/Yura/Documents/Uni%20Academic/Databases/Course%20Project/cs-a-1153-2022-project-vaccine-distribution-group-21/venv/lib/python3.10/site-packages/pandas/testing.py?line=6'>7</a>\u001b[0m     assert_extension_array_equal,\n\u001b[1;32m      <a href='file:///Users/Yura/Documents/Uni%20Academic/Databases/Course%20Project/cs-a-1153-2022-project-vaccine-distribution-group-21/venv/lib/python3.10/site-packages/pandas/testing.py?line=7'>8</a>\u001b[0m     assert_frame_equal,\n\u001b[1;32m      <a href='file:///Users/Yura/Documents/Uni%20Academic/Databases/Course%20Project/cs-a-1153-2022-project-vaccine-distribution-group-21/venv/lib/python3.10/site-packages/pandas/testing.py?line=8'>9</a>\u001b[0m     assert_index_equal,\n\u001b[1;32m     <a href='file:///Users/Yura/Documents/Uni%20Academic/Databases/Course%20Project/cs-a-1153-2022-project-vaccine-distribution-group-21/venv/lib/python3.10/site-packages/pandas/testing.py?line=9'>10</a>\u001b[0m     assert_series_equal,\n\u001b[1;32m     <a href='file:///Users/Yura/Documents/Uni%20Academic/Databases/Course%20Project/cs-a-1153-2022-project-vaccine-distribution-group-21/venv/lib/python3.10/site-packages/pandas/testing.py?line=10'>11</a>\u001b[0m )\n\u001b[1;32m     <a href='file:///Users/Yura/Documents/Uni%20Academic/Databases/Course%20Project/cs-a-1153-2022-project-vaccine-distribution-group-21/venv/lib/python3.10/site-packages/pandas/testing.py?line=12'>13</a>\u001b[0m __all__ \u001b[39m=\u001b[39m [\n\u001b[1;32m     <a href='file:///Users/Yura/Documents/Uni%20Academic/Databases/Course%20Project/cs-a-1153-2022-project-vaccine-distribution-group-21/venv/lib/python3.10/site-packages/pandas/testing.py?line=13'>14</a>\u001b[0m     \u001b[39m\"\u001b[39m\u001b[39massert_extension_array_equal\u001b[39m\u001b[39m\"\u001b[39m,\n\u001b[1;32m     <a href='file:///Users/Yura/Documents/Uni%20Academic/Databases/Course%20Project/cs-a-1153-2022-project-vaccine-distribution-group-21/venv/lib/python3.10/site-packages/pandas/testing.py?line=14'>15</a>\u001b[0m     \u001b[39m\"\u001b[39m\u001b[39massert_frame_equal\u001b[39m\u001b[39m\"\u001b[39m,\n\u001b[1;32m     <a href='file:///Users/Yura/Documents/Uni%20Academic/Databases/Course%20Project/cs-a-1153-2022-project-vaccine-distribution-group-21/venv/lib/python3.10/site-packages/pandas/testing.py?line=15'>16</a>\u001b[0m     \u001b[39m\"\u001b[39m\u001b[39massert_series_equal\u001b[39m\u001b[39m\"\u001b[39m,\n\u001b[1;32m     <a href='file:///Users/Yura/Documents/Uni%20Academic/Databases/Course%20Project/cs-a-1153-2022-project-vaccine-distribution-group-21/venv/lib/python3.10/site-packages/pandas/testing.py?line=16'>17</a>\u001b[0m     \u001b[39m\"\u001b[39m\u001b[39massert_index_equal\u001b[39m\u001b[39m\"\u001b[39m,\n\u001b[1;32m     <a href='file:///Users/Yura/Documents/Uni%20Academic/Databases/Course%20Project/cs-a-1153-2022-project-vaccine-distribution-group-21/venv/lib/python3.10/site-packages/pandas/testing.py?line=17'>18</a>\u001b[0m ]\n",
      "File \u001b[0;32m~/Documents/Uni Academic/Databases/Course Project/cs-a-1153-2022-project-vaccine-distribution-group-21/venv/lib/python3.10/site-packages/pandas/_testing/__init__.py:979\u001b[0m, in \u001b[0;36m<module>\u001b[0;34m\u001b[0m\n\u001b[1;32m    <a href='file:///Users/Yura/Documents/Uni%20Academic/Databases/Course%20Project/cs-a-1153-2022-project-vaccine-distribution-group-21/venv/lib/python3.10/site-packages/pandas/_testing/__init__.py?line=973'>974</a>\u001b[0m     \u001b[39mimport\u001b[39;00m \u001b[39mpytest\u001b[39;00m\n\u001b[1;32m    <a href='file:///Users/Yura/Documents/Uni%20Academic/Databases/Course%20Project/cs-a-1153-2022-project-vaccine-distribution-group-21/venv/lib/python3.10/site-packages/pandas/_testing/__init__.py?line=975'>976</a>\u001b[0m     \u001b[39mreturn\u001b[39;00m pytest\u001b[39m.\u001b[39mraises(expected_exception, match\u001b[39m=\u001b[39m\u001b[39mNone\u001b[39;00m)  \u001b[39m# noqa: PDF010\u001b[39;00m\n\u001b[0;32m--> <a href='file:///Users/Yura/Documents/Uni%20Academic/Databases/Course%20Project/cs-a-1153-2022-project-vaccine-distribution-group-21/venv/lib/python3.10/site-packages/pandas/_testing/__init__.py?line=978'>979</a>\u001b[0m cython_table \u001b[39m=\u001b[39m pd\u001b[39m.\u001b[39;49mcore\u001b[39m.\u001b[39mcommon\u001b[39m.\u001b[39m_cython_table\u001b[39m.\u001b[39mitems()\n\u001b[1;32m    <a href='file:///Users/Yura/Documents/Uni%20Academic/Databases/Course%20Project/cs-a-1153-2022-project-vaccine-distribution-group-21/venv/lib/python3.10/site-packages/pandas/_testing/__init__.py?line=981'>982</a>\u001b[0m \u001b[39mdef\u001b[39;00m \u001b[39mget_cython_table_params\u001b[39m(ndframe, func_names_and_expected):\n\u001b[1;32m    <a href='file:///Users/Yura/Documents/Uni%20Academic/Databases/Course%20Project/cs-a-1153-2022-project-vaccine-distribution-group-21/venv/lib/python3.10/site-packages/pandas/_testing/__init__.py?line=982'>983</a>\u001b[0m     \u001b[39m\"\"\"\u001b[39;00m\n\u001b[1;32m    <a href='file:///Users/Yura/Documents/Uni%20Academic/Databases/Course%20Project/cs-a-1153-2022-project-vaccine-distribution-group-21/venv/lib/python3.10/site-packages/pandas/_testing/__init__.py?line=983'>984</a>\u001b[0m \u001b[39m    Combine frame, functions from com._cython_table\u001b[39;00m\n\u001b[1;32m    <a href='file:///Users/Yura/Documents/Uni%20Academic/Databases/Course%20Project/cs-a-1153-2022-project-vaccine-distribution-group-21/venv/lib/python3.10/site-packages/pandas/_testing/__init__.py?line=984'>985</a>\u001b[0m \u001b[39m    keys and expected result.\u001b[39;00m\n\u001b[0;32m   (...)\u001b[0m\n\u001b[1;32m    <a href='file:///Users/Yura/Documents/Uni%20Academic/Databases/Course%20Project/cs-a-1153-2022-project-vaccine-distribution-group-21/venv/lib/python3.10/site-packages/pandas/_testing/__init__.py?line=996'>997</a>\u001b[0m \u001b[39m        List of three items (DataFrame, function, expected result)\u001b[39;00m\n\u001b[1;32m    <a href='file:///Users/Yura/Documents/Uni%20Academic/Databases/Course%20Project/cs-a-1153-2022-project-vaccine-distribution-group-21/venv/lib/python3.10/site-packages/pandas/_testing/__init__.py?line=997'>998</a>\u001b[0m \u001b[39m    \"\"\"\u001b[39;00m\n",
      "\u001b[0;31mAttributeError\u001b[0m: partially initialized module 'pandas' has no attribute 'core' (most likely due to a circular import)"
     ]
    }
   ],
   "source": [
    "import psycopg2\n",
    "from psycopg2 import Error\n",
    "from sqlalchemy import create_engine, text\n",
    "import pandas as pd\n",
    "import numpy as np\n",
    "\n",
    "from pathlib import Path\n",
    "import matplotlib.pyplot as plt"
   ]
  },
  {
   "cell_type": "markdown",
   "id": "705e2c82",
   "metadata": {},
   "source": [
    "First things first, let's connect to the *PostgreSQL* database we designed and implemented during the previous rounds. We can use methods from the `psycopg2` library to establish a connection and execute SQL queries."
   ]
  },
  {
   "cell_type": "code",
   "execution_count": 3,
   "id": "5ab4fc66",
   "metadata": {},
   "outputs": [
    {
     "ename": "NameError",
     "evalue": "name 'Path' is not defined",
     "output_type": "error",
     "traceback": [
      "\u001b[0;31m---------------------------------------------------------------------------\u001b[0m",
      "\u001b[0;31mNameError\u001b[0m                                 Traceback (most recent call last)",
      "\u001b[1;32m/Users/Yura/Documents/Uni Academic/Databases/Course Project/cs-a-1153-2022-project-vaccine-distribution-group-21/data_analysis/Data Analysis Questions.ipynb Cell 3'\u001b[0m in \u001b[0;36m<cell line: 1>\u001b[0;34m()\u001b[0m\n\u001b[0;32m----> <a href='vscode-notebook-cell:/Users/Yura/Documents/Uni%20Academic/Databases/Course%20Project/cs-a-1153-2022-project-vaccine-distribution-group-21/data_analysis/Data%20Analysis%20Questions.ipynb#ch0000001?line=0'>1</a>\u001b[0m DATADIR \u001b[39m=\u001b[39m \u001b[39mstr\u001b[39m(Path(\u001b[39m__file__\u001b[39m)\u001b[39m.\u001b[39mparent\u001b[39m.\u001b[39mparent) \u001b[39m# for relative path \u001b[39;00m\n\u001b[1;32m      <a href='vscode-notebook-cell:/Users/Yura/Documents/Uni%20Academic/Databases/Course%20Project/cs-a-1153-2022-project-vaccine-distribution-group-21/data_analysis/Data%20Analysis%20Questions.ipynb#ch0000001?line=1'>2</a>\u001b[0m \u001b[39mprint\u001b[39m(\u001b[39m\"\u001b[39m\u001b[39mData directory: \u001b[39m\u001b[39m\"\u001b[39m, DATADIR)\n\u001b[1;32m      <a href='vscode-notebook-cell:/Users/Yura/Documents/Uni%20Academic/Databases/Course%20Project/cs-a-1153-2022-project-vaccine-distribution-group-21/data_analysis/Data%20Analysis%20Questions.ipynb#ch0000001?line=3'>4</a>\u001b[0m \u001b[39m# *********************************************\u001b[39;00m\n\u001b[1;32m      <a href='vscode-notebook-cell:/Users/Yura/Documents/Uni%20Academic/Databases/Course%20Project/cs-a-1153-2022-project-vaccine-distribution-group-21/data_analysis/Data%20Analysis%20Questions.ipynb#ch0000001?line=4'>5</a>\u001b[0m \u001b[39m# Credentials to connect to Postgres database *\u001b[39;00m\n\u001b[1;32m      <a href='vscode-notebook-cell:/Users/Yura/Documents/Uni%20Academic/Databases/Course%20Project/cs-a-1153-2022-project-vaccine-distribution-group-21/data_analysis/Data%20Analysis%20Questions.ipynb#ch0000001?line=5'>6</a>\u001b[0m \u001b[39m# *********************************************\u001b[39;00m\n",
      "\u001b[0;31mNameError\u001b[0m: name 'Path' is not defined"
     ]
    }
   ],
   "source": [
    "DATADIR = str(Path(__file__).parent.parent) # for relative path \n",
    "print(\"Data directory: \", DATADIR)\n",
    "\n",
    "# *********************************************\n",
    "# Credentials to connect to Postgres database *\n",
    "# *********************************************\n",
    "database=\"grp21_vaccinedist\"   \n",
    "user='grp21'       \n",
    "password='B5!BpWYT' \n",
    "host='dbcourse2022.cs.aalto.fi'\n",
    "port= '5432'\n",
    "\n",
    "# ****************************************************************************************\n",
    "# Establish the connection to Postgres and creating tables in the database with SQL file *\n",
    "# ****************************************************************************************\n",
    "try:\n",
    "    # **********************************************************************\n",
    "    # Connect the postgres database from your local machine using psycopg2 *\n",
    "    # **********************************************************************\n",
    "    connection = psycopg2.connect(\n",
    "                                    database=database,              \n",
    "                                    user=user,       \n",
    "                                    password=password,   \n",
    "                                    host=host,\n",
    "                                    port=port\n",
    "                                )\n",
    "    # Create a cursor to perform database operations\n",
    "    cursor = connection.cursor()\n",
    "    # Print PostgreSQL details\n",
    "    print(\"PostgreSQL server information\")\n",
    "    print(connection.get_dsn_parameters(), \"\\n\")\n",
    "    # Executing a SQL query\n",
    "    cursor.execute(\"SELECT version();\")\n",
    "    # Fetch result\n",
    "    record = cursor.fetchone()\n",
    "    print(\"You are connected to - \", record, \"\\n\")\n",
    "\n",
    "except (Exception, Error) as error:\n",
    "    print(\"Error while connecting to PostgreSQL\", error)"
   ]
  }
 ],
 "metadata": {
  "interpreter": {
   "hash": "cb641868373737c8bc87df6acec58921e4382b73d0856bbdc1be96b41ac03031"
  },
  "kernelspec": {
   "display_name": "Python 3.10.2 ('venv': venv)",
   "language": "python",
   "name": "python3"
  },
  "language_info": {
   "codemirror_mode": {
    "name": "ipython",
    "version": 3
   },
   "file_extension": ".py",
   "mimetype": "text/x-python",
   "name": "python",
   "nbconvert_exporter": "python",
   "pygments_lexer": "ipython3",
   "version": "3.10.2"
  }
 },
 "nbformat": 4,
 "nbformat_minor": 5
}
