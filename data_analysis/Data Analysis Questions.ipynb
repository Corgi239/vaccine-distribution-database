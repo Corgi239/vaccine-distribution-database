{
 "cells": [
  {
   "cell_type": "markdown",
   "id": "f34bdd3b",
   "metadata": {},
   "source": [
    "# Group Progject Part 3\n",
    "\n",
    "Ananov Georgy - 890980   \n",
    "Le Duong - 894834  \n",
    "Nguyen Tam - 906968  \n",
    "Pham Hieu - 895118  \n",
    "\n",
    "## Library Imports"
   ]
  },
  {
   "cell_type": "code",
   "execution_count": null,
   "id": "fe431120",
   "metadata": {},
   "outputs": [],
   "source": [
    "import psycopg2\n",
    "from psycopg2 import Error\n",
    "from sqlalchemy import create_engine, text\n",
    "import numpy as np\n",
    "import pandas as pd\n",
    "from pathlib import Path\n",
    "import matplotlib.pyplot as plt"
   ]
  },
  {
   "cell_type": "markdown",
   "id": "68fbfc24",
   "metadata": {},
   "source": [
    "## Database connection"
   ]
  },
  {
   "cell_type": "markdown",
   "id": "705e2c82",
   "metadata": {},
   "source": [
    "First things first, we need to connect to the *PostgreSQL* database we designed and implemented during the previous rounds. We can use methods from the `psycopg2` and `sqlalchemy` libraries to establish a connection and execute SQL queries."
   ]
  },
  {
   "cell_type": "code",
   "execution_count": null,
   "id": "5ab4fc66",
   "metadata": {},
   "outputs": [],
   "source": [
    "# Credentials to connect to Postgres database\n",
    "database=\"grp21_vaccinedist\"   \n",
    "user='grp21'       \n",
    "password='B5!BpWYT' \n",
    "host='dbcourse2022.cs.aalto.fi'\n",
    "port= '5432'\n",
    "\n",
    "try:\n",
    "    connection = psycopg2.connect(\n",
    "                                    database=database,              \n",
    "                                    user=user,       \n",
    "                                    password=password,   \n",
    "                                    host=host,\n",
    "                                    port=port\n",
    "                                )\n",
    "    cursor = connection.cursor()\n",
    "    cursor.execute(\"SELECT version();\")\n",
    "    record = cursor.fetchone()\n",
    "    print(\"You are connected to - \", record, \"\\n\")\n",
    "    DIALECT = 'postgresql+psycopg2://'\n",
    "    db_uri = \"%s:%s@%s/%s\" % (user, password, host, database)\n",
    "    engine = create_engine(DIALECT + db_uri)\n",
    "    psql_conn  = engine.connect()\n",
    "\n",
    "except (Exception, Error) as error:\n",
    "    print(\"Error while connecting to PostgreSQL\", error)"
   ]
  },
  {
   "cell_type": "markdown",
   "id": "ff554e2d",
   "metadata": {},
   "source": [
    "With the connection established, we can proceed to conducting the analysis tasks."
   ]
  },
  {
   "cell_type": "markdown",
   "id": "f87807e7",
   "metadata": {},
   "source": [
    "## Data analysis"
   ]
  },
  {
   "cell_type": "markdown",
   "id": "d97f3a7b",
   "metadata": {},
   "source": [
    "### Question 1\n",
    "\n",
    "Let's start by pulling data about patients and symptoms from the database into a pandas dataframe using an SQL query."
   ]
  },
  {
   "cell_type": "code",
   "execution_count": null,
   "id": "d2620533",
   "metadata": {},
   "outputs": [],
   "source": [
    "query = '''\n",
    "    SELECT ssno, gender, birthday, symptom, date\n",
    "    FROM patient, diagnosed\n",
    "    WHERE patient = ssno\n",
    "'''\n",
    "df = pd.read_sql(query, psql_conn)\n",
    "df.head()\n"
   ]
  },
  {
   "cell_type": "markdown",
   "id": "43d16ab9",
   "metadata": {},
   "source": [
    "Now we can create a table using the dataframe we obtained."
   ]
  },
  {
   "cell_type": "code",
   "execution_count": null,
   "id": "071e4e10",
   "metadata": {},
   "outputs": [],
   "source": [
    "df.to_sql(\"patientsymptoms\", psql_conn, index = True, if_exists = \"replace\")\n"
   ]
  },
  {
   "cell_type": "markdown",
   "id": "976877d3",
   "metadata": {},
   "source": [
    "We can check that the table has been successfully inserted into the database."
   ]
  },
  {
   "cell_type": "code",
   "execution_count": 12,
   "id": "16caa3b2",
   "metadata": {},
   "outputs": [
    {
     "data": {
      "text/html": [
       "<div>\n",
       "<style scoped>\n",
       "    .dataframe tbody tr th:only-of-type {\n",
       "        vertical-align: middle;\n",
       "    }\n",
       "\n",
       "    .dataframe tbody tr th {\n",
       "        vertical-align: top;\n",
       "    }\n",
       "\n",
       "    .dataframe thead th {\n",
       "        text-align: right;\n",
       "    }\n",
       "</style>\n",
       "<table border=\"1\" class=\"dataframe\">\n",
       "  <thead>\n",
       "    <tr style=\"text-align: right;\">\n",
       "      <th></th>\n",
       "      <th>index</th>\n",
       "      <th>ssno</th>\n",
       "      <th>gender</th>\n",
       "      <th>birthday</th>\n",
       "      <th>symptom</th>\n",
       "      <th>date</th>\n",
       "    </tr>\n",
       "  </thead>\n",
       "  <tbody>\n",
       "    <tr>\n",
       "      <th>0</th>\n",
       "      <td>0</td>\n",
       "      <td>790503-394M</td>\n",
       "      <td>F</td>\n",
       "      <td>1979-05-03</td>\n",
       "      <td>anaphylaxia</td>\n",
       "      <td>2021-01-30</td>\n",
       "    </tr>\n",
       "    <tr>\n",
       "      <th>1</th>\n",
       "      <td>1</td>\n",
       "      <td>000127-4899</td>\n",
       "      <td>F</td>\n",
       "      <td>2000-01-27</td>\n",
       "      <td>blurring of vision</td>\n",
       "      <td>2021-02-01</td>\n",
       "    </tr>\n",
       "    <tr>\n",
       "      <th>2</th>\n",
       "      <td>2</td>\n",
       "      <td>090707-295R</td>\n",
       "      <td>F</td>\n",
       "      <td>2009-07-07</td>\n",
       "      <td>chest pain</td>\n",
       "      <td>2021-02-15</td>\n",
       "    </tr>\n",
       "    <tr>\n",
       "      <th>3</th>\n",
       "      <td>3</td>\n",
       "      <td>810616-9029</td>\n",
       "      <td>M</td>\n",
       "      <td>1981-06-16</td>\n",
       "      <td>chest pain</td>\n",
       "      <td>2021-04-30</td>\n",
       "    </tr>\n",
       "    <tr>\n",
       "      <th>4</th>\n",
       "      <td>4</td>\n",
       "      <td>701127-5340</td>\n",
       "      <td>F</td>\n",
       "      <td>1970-11-27</td>\n",
       "      <td>chills</td>\n",
       "      <td>2021-04-10</td>\n",
       "    </tr>\n",
       "  </tbody>\n",
       "</table>\n",
       "</div>"
      ],
      "text/plain": [
       "   index         ssno gender    birthday             symptom        date\n",
       "0      0  790503-394M      F  1979-05-03         anaphylaxia  2021-01-30\n",
       "1      1  000127-4899      F  2000-01-27  blurring of vision  2021-02-01\n",
       "2      2  090707-295R      F  2009-07-07          chest pain  2021-02-15\n",
       "3      3  810616-9029      M  1981-06-16          chest pain  2021-04-30\n",
       "4      4  701127-5340      F  1970-11-27              chills  2021-04-10"
      ]
     },
     "execution_count": 12,
     "metadata": {},
     "output_type": "execute_result"
    }
   ],
   "source": [
    "query = '''\n",
    "    SELECT *\n",
    "    FROM patientsymptoms\n",
    "'''\n",
    "df = pd.read_sql(query, psql_conn)\n",
    "df.head()"
   ]
  },
  {
   "cell_type": "markdown",
   "id": "3e7b17b8",
   "metadata": {},
   "source": [
    "### Question 2"
   ]
  },
  {
   "cell_type": "markdown",
   "id": "998bce1f",
   "metadata": {},
   "source": [
    "For this question we can start by creating a view that lists some information about every performed vaccination."
   ]
  },
  {
   "cell_type": "code",
   "execution_count": 29,
   "id": "27a6d0c2",
   "metadata": {},
   "outputs": [],
   "source": [
    "%%capture\n",
    "\n",
    "query = '''\n",
    "    CREATE OR REPLACE VIEW individualvaccination AS\n",
    "    SELECT attend.patient AS patientssno, attend.date, vaccinedata.name as vaccinetype\n",
    "    FROM   \n",
    "        attend \n",
    "        NATURAL JOIN \n",
    "        vaccinationevent \n",
    "        NATURAL JOIN \n",
    "        vaccinationbatch \n",
    "        NATURAL JOIN \n",
    "        vaccinedata\n",
    "    \n",
    "'''\n",
    "psql_conn.execute(query)\n"
   ]
  },
  {
   "cell_type": "markdown",
   "id": "2bd26655",
   "metadata": {},
   "source": [
    "We can now use the created view in constructing the desired dataframe."
   ]
  },
  {
   "cell_type": "code",
   "execution_count": 30,
   "id": "4af303b1",
   "metadata": {},
   "outputs": [
    {
     "data": {
      "text/html": [
       "<div>\n",
       "<style scoped>\n",
       "    .dataframe tbody tr th:only-of-type {\n",
       "        vertical-align: middle;\n",
       "    }\n",
       "\n",
       "    .dataframe tbody tr th {\n",
       "        vertical-align: top;\n",
       "    }\n",
       "\n",
       "    .dataframe thead th {\n",
       "        text-align: right;\n",
       "    }\n",
       "</style>\n",
       "<table border=\"1\" class=\"dataframe\">\n",
       "  <thead>\n",
       "    <tr style=\"text-align: right;\">\n",
       "      <th></th>\n",
       "      <th>patientssno</th>\n",
       "      <th>date1</th>\n",
       "      <th>date2</th>\n",
       "      <th>asvaccinetype1</th>\n",
       "      <th>asvaccinetype2</th>\n",
       "    </tr>\n",
       "  </thead>\n",
       "  <tbody>\n",
       "    <tr>\n",
       "      <th>0</th>\n",
       "      <td>841229-112N</td>\n",
       "      <td>2021-01-30</td>\n",
       "      <td>2021-02-14</td>\n",
       "      <td>AstraZeneca</td>\n",
       "      <td>Comirnaty</td>\n",
       "    </tr>\n",
       "    <tr>\n",
       "      <th>1</th>\n",
       "      <td>780214-1893</td>\n",
       "      <td>2021-01-30</td>\n",
       "      <td>None</td>\n",
       "      <td>AstraZeneca</td>\n",
       "      <td>None</td>\n",
       "    </tr>\n",
       "    <tr>\n",
       "      <th>2</th>\n",
       "      <td>731122-126T</td>\n",
       "      <td>2021-01-30</td>\n",
       "      <td>None</td>\n",
       "      <td>AstraZeneca</td>\n",
       "      <td>None</td>\n",
       "    </tr>\n",
       "    <tr>\n",
       "      <th>3</th>\n",
       "      <td>160930-586P</td>\n",
       "      <td>2021-01-30</td>\n",
       "      <td>2021-02-14</td>\n",
       "      <td>AstraZeneca</td>\n",
       "      <td>Comirnaty</td>\n",
       "    </tr>\n",
       "    <tr>\n",
       "      <th>4</th>\n",
       "      <td>930106-189U</td>\n",
       "      <td>2021-01-30</td>\n",
       "      <td>None</td>\n",
       "      <td>AstraZeneca</td>\n",
       "      <td>None</td>\n",
       "    </tr>\n",
       "  </tbody>\n",
       "</table>\n",
       "</div>"
      ],
      "text/plain": [
       "   patientssno       date1       date2 asvaccinetype1 asvaccinetype2\n",
       "0  841229-112N  2021-01-30  2021-02-14    AstraZeneca      Comirnaty\n",
       "1  780214-1893  2021-01-30        None    AstraZeneca           None\n",
       "2  731122-126T  2021-01-30        None    AstraZeneca           None\n",
       "3  160930-586P  2021-01-30  2021-02-14    AstraZeneca      Comirnaty\n",
       "4  930106-189U  2021-01-30        None    AstraZeneca           None"
      ]
     },
     "execution_count": 30,
     "metadata": {},
     "output_type": "execute_result"
    }
   ],
   "source": [
    "query = '''\n",
    "    SELECT ssno AS patientssno, IV1.date AS date1, IV1.vaccinetype ASvaccinetype1,\n",
    "        IV2.date AS date2, IV2.vaccinetype ASvaccinetype2\n",
    "    FROM \n",
    "        patient\n",
    "        LEFT JOIN individualvaccination AS IV1 ON ssno = IV1.patientssno\n",
    "        LEFT JOIN individualvaccination AS IV2 ON ssno = IV2.patientssno AND IV1.date <> IV2.date\n",
    "'''\n",
    "\n",
    "df = pd.read_sql(query, psql_conn)\n",
    "df.head()"
   ]
  },
  {
   "cell_type": "markdown",
   "id": "9f7d1d2f",
   "metadata": {},
   "source": [
    "### Question 3"
   ]
  },
  {
   "cell_type": "code",
   "execution_count": null,
   "id": "9cb54654",
   "metadata": {},
   "outputs": [],
   "source": []
  },
  {
   "cell_type": "markdown",
   "id": "59ff4db1",
   "metadata": {},
   "source": [
    "### Question 4"
   ]
  },
  {
   "cell_type": "code",
   "execution_count": null,
   "id": "d37a792d",
   "metadata": {},
   "outputs": [],
   "source": []
  },
  {
   "cell_type": "markdown",
   "id": "c5b0ae89",
   "metadata": {},
   "source": [
    "### Question 5"
   ]
  },
  {
   "cell_type": "code",
   "execution_count": null,
   "id": "acdb186f",
   "metadata": {},
   "outputs": [],
   "source": []
  },
  {
   "cell_type": "markdown",
   "id": "65536f71",
   "metadata": {},
   "source": [
    "### Question 6"
   ]
  },
  {
   "cell_type": "code",
   "execution_count": null,
   "id": "9b9a40a9",
   "metadata": {},
   "outputs": [],
   "source": []
  },
  {
   "cell_type": "markdown",
   "id": "f912e77a",
   "metadata": {},
   "source": [
    "### Question 7"
   ]
  },
  {
   "cell_type": "code",
   "execution_count": null,
   "id": "7e90c3fe",
   "metadata": {},
   "outputs": [],
   "source": []
  },
  {
   "cell_type": "markdown",
   "id": "157a34d0",
   "metadata": {},
   "source": [
    "### Question 8"
   ]
  },
  {
   "cell_type": "code",
   "execution_count": null,
   "id": "6109adc4",
   "metadata": {},
   "outputs": [],
   "source": []
  },
  {
   "cell_type": "markdown",
   "id": "b02f1114",
   "metadata": {},
   "source": [
    "### Question 9"
   ]
  },
  {
   "cell_type": "code",
   "execution_count": null,
   "id": "8918b756",
   "metadata": {},
   "outputs": [],
   "source": []
  },
  {
   "cell_type": "markdown",
   "id": "2d92b547",
   "metadata": {},
   "source": [
    "### Question 10"
   ]
  },
  {
   "cell_type": "code",
   "execution_count": null,
   "id": "5019aedd",
   "metadata": {},
   "outputs": [],
   "source": []
  }
 ],
 "metadata": {
  "interpreter": {
   "hash": "cb641868373737c8bc87df6acec58921e4382b73d0856bbdc1be96b41ac03031"
  },
  "kernelspec": {
   "display_name": "Python 3.10.2 ('venv': venv)",
   "language": "python",
   "name": "python3"
  },
  "language_info": {
   "codemirror_mode": {
    "name": "ipython",
    "version": 3
   },
   "file_extension": ".py",
   "mimetype": "text/x-python",
   "name": "python",
   "nbconvert_exporter": "python",
   "pygments_lexer": "ipython3",
   "version": "3.10.2"
  }
 },
 "nbformat": 4,
 "nbformat_minor": 5
}
