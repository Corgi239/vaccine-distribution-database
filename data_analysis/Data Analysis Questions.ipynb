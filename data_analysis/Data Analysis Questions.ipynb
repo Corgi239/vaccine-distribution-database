{
 "cells": [
  {
   "cell_type": "code",
   "execution_count": null,
   "id": "fe431120",
   "metadata": {},
   "outputs": [],
   "source": [
    "import psycopg2\n",
    "from psycopg2 import Error\n",
    "from sqlalchemy import create_engine, text\n",
    "import pandas as pd\n",
    "import numpy as np\n",
    "from pathlib import Path\n",
    "import matplotlib.pyplot as plt"
   ]
  },
  {
   "cell_type": "code",
   "execution_count": null,
   "id": "5ab4fc66",
   "metadata": {},
   "outputs": [],
   "source": [
    "DATADIR = str(Path(__file__).parent.parent) # for relative path \n",
    "print(\"Data directory: \", DATADIR)\n",
    "\n",
    "# *********************************************\n",
    "# Credentials to connect to Postgres database *\n",
    "# *********************************************\n",
    "database=\"grp21_vaccinedist\"   \n",
    "user='grp21'       \n",
    "password='B5!BpWYT' \n",
    "host='dbcourse2022.cs.aalto.fi'\n",
    "port= '5432'\n",
    "\n",
    "# ****************************************************************************************\n",
    "# Establish the connection to Postgres and creating tables in the database with SQL file *\n",
    "# ****************************************************************************************\n",
    "try:\n",
    "    # **********************************************************************\n",
    "    # Connect the postgres database from your local machine using psycopg2 *\n",
    "    # **********************************************************************\n",
    "    connection = psycopg2.connect(\n",
    "                                    database=database,              \n",
    "                                    user=user,       \n",
    "                                    password=password,   \n",
    "                                    host=host,\n",
    "                                    port=port\n",
    "                                )\n",
    "    # Create a cursor to perform database operations\n",
    "    cursor = connection.cursor()\n",
    "    # Print PostgreSQL details\n",
    "    print(\"PostgreSQL server information\")\n",
    "    print(connection.get_dsn_parameters(), \"\\n\")\n",
    "    # Executing a SQL query\n",
    "    cursor.execute(\"SELECT version();\")\n",
    "    # Fetch result\n",
    "    record = cursor.fetchone()\n",
    "    print(\"You are connected to - \", record, \"\\n\")"
   ]
  }
 ],
 "metadata": {
  "kernelspec": {
   "display_name": "Python 3 (ipykernel)",
   "language": "python",
   "name": "python3"
  },
  "language_info": {
   "codemirror_mode": {
    "name": "ipython",
    "version": 3
   },
   "file_extension": ".py",
   "mimetype": "text/x-python",
   "name": "python",
   "nbconvert_exporter": "python",
   "pygments_lexer": "ipython3",
   "version": "3.9.7"
  }
 },
 "nbformat": 4,
 "nbformat_minor": 5
}
